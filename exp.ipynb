{
 "cells": [
  {
   "cell_type": "code",
   "execution_count": 53,
   "metadata": {
    "collapsed": true
   },
   "outputs": [
    {
     "name": "stdout",
     "output_type": "stream",
     "text": [
      "The autoreload extension is already loaded. To reload it, use:\n",
      "  %reload_ext autoreload\n"
     ]
    }
   ],
   "source": [
    "import numpy as np\n",
    "%load_ext autoreload\n",
    "%autoreload 2\n",
    "\n",
    "import json\n",
    "import numpy as np\n",
    "import matplotlib.pyplot as plt\n",
    "from wordcloud import WordCloud\n",
    "from nltk.corpus import stopwords\n",
    "import seaborn as sns\n",
    "stop_words = stopwords.words('russian')\n",
    "\n",
    "from clustering import k_nearest_items, clusters_domain, preprocess_data"
   ]
  },
  {
   "cell_type": "code",
   "execution_count": 76,
   "outputs": [],
   "source": [
    "json_data = json.load(open(\"resule_parsing.json\", \"r\", encoding=\"utf-8\"))\n",
    "out_product = json_data[20]\n",
    "processed_data = preprocess_data(out_product)"
   ],
   "metadata": {
    "collapsed": false,
    "pycharm": {
     "name": "#%%\n"
    }
   }
  },
  {
   "cell_type": "code",
   "execution_count": 13,
   "outputs": [],
   "source": [
    "nearest_dataframe = k_nearest_items(processed_data)"
   ],
   "metadata": {
    "collapsed": false,
    "pycharm": {
     "name": "#%%\n"
    }
   }
  },
  {
   "cell_type": "code",
   "execution_count": null,
   "outputs": [],
   "source": [],
   "metadata": {
    "collapsed": false,
    "pycharm": {
     "name": "#%%\n"
    }
   }
  },
  {
   "cell_type": "markdown",
   "source": [
    "## строим облако слов по описания ближайших товаров - можно использовать при создании рекламы карточки"
   ],
   "metadata": {
    "collapsed": false,
    "pycharm": {
     "name": "#%% md\n"
    }
   }
  },
  {
   "cell_type": "code",
   "execution_count": 50,
   "outputs": [
    {
     "data": {
      "text/plain": "<wordcloud.wordcloud.WordCloud at 0x260a99b0700>"
     },
     "execution_count": 50,
     "metadata": {},
     "output_type": "execute_result"
    }
   ],
   "source": [
    "text = \" \".join([i for i in nearest_dataframe.description if  i is not np.nan])\n",
    "cloud = WordCloud(width=1920, height=1080, stopwords=stop_words,\n",
    "                  background_color=\"rgba(255, 255, 255, 0)\").generate(text)\n",
    "cloud.to_file(\"tmp_files/world_cloud.png\")\n",
    "# background_color=\"rgba(255, 255, 255, 0)\"\n",
    "# plt.figure(figsize=(20, 14), dpi=400)\n",
    "# plt.imshow(cloud)\n",
    "# plt.savefig('tmp_files/world_cloud.png')"
   ],
   "metadata": {
    "collapsed": false,
    "pycharm": {
     "name": "#%%\n"
    }
   }
  },
  {
   "cell_type": "code",
   "execution_count": 54,
   "outputs": [
    {
     "data": {
      "text/plain": "      Unnamed: 0                                                url   price  \\\n75            75  https://www.wildberries.ru/catalog/171471305/d...   879.0   \n1122        1122  https://www.wildberries.ru/catalog/171471142/d...   879.0   \n173          173  https://www.wildberries.ru/catalog/171471378/d...   879.0   \n795          795  https://www.wildberries.ru/catalog/171087020/d...   559.0   \n360          360  https://www.wildberries.ru/catalog/98169943/de...  2030.0   \n...          ...                                                ...     ...   \n234          234  https://www.wildberries.ru/catalog/11508304/de...   190.0   \n895          895  https://www.wildberries.ru/catalog/170647697/d...  2200.0   \n600          600  https://www.wildberries.ru/catalog/169216066/d...  1200.0   \n79            79  https://www.wildberries.ru/catalog/13394908/de...   275.0   \n612          612  https://www.wildberries.ru/catalog/47400356/de...   212.0   \n\n        old_price   order_count  celler_sold  celler_rating  \\\n75    1999.000000  11914.127626          NaN            4.9   \n1122  1999.000000  11914.127626          NaN            4.9   \n173   1999.000000  11914.127626          NaN            4.9   \n795    999.000000  11914.127626          NaN            4.9   \n360   7000.000000    400.000000          NaN            4.9   \n...           ...           ...          ...            ...   \n234    250.000000    600.000000          NaN            3.2   \n895   4890.000000  11914.127626          NaN            4.5   \n600   2881.913265  11914.127626          NaN            3.6   \n79     550.000000   2000.000000          NaN            4.5   \n612    304.000000   1200.000000          NaN            4.0   \n\n                       name_comp  celler_mean_delivery_time  \\\n75                       ЭлибЭКО                       99.3   \n1122                     ЭлибЭКО                       99.3   \n173                      ЭлибЭКО                       99.3   \n795                      ЭлибЭКО                       99.3   \n360                    ReliaKool                      100.0   \n...                          ...                        ...   \n234              REV Ritter GmbH                       98.5   \n895       Ковалева Ирина Юрьевна                       99.3   \n600                        СОКОЛ                       96.5   \n79    Энергосистемы и Технологии                       89.0   \n612                   ВИП Маркет                       97.3   \n\n      celler_percent_bad_products  ... search_category  \\\n75                           99.3  ...          посуда   \n1122                         99.3  ...          посуда   \n173                          99.3  ...          посуда   \n795                          99.3  ...          посуда   \n360                          99.3  ...          посуда   \n...                           ...  ...             ...   \n234                          99.3  ...        лампочки   \n895                          99.3  ...       косметика   \n600                          99.3  ...          бритва   \n79                           99.3  ...        лампочки   \n612                          99.3  ...        лампочки   \n\n                                            meta_text_0  \\\n75    Дополнительная информация Материал посуды ABS-...   \n1122  Дополнительная информация Вес товара с упаковк...   \n173   Дополнительная информация Материал посуды ABS-...   \n795   Дополнительная информация Материал посуды ABS-...   \n360   Дополнительная информация Особенности посуды С...   \n...                                                 ...   \n234   Дополнительная информация Эквивалент лампы нак...   \n895   Дополнительная информация Объем товара 150 мл ...   \n600   Общие характеристики Количество предметов в уп...   \n79    Габариты Вес с упаковкой (кг) 0.5 кг Длина упа...   \n612   Общие характеристики Модель F-LED A60-15W-840-...   \n\n                                            meta_text_1  \\\n75    Дополнительная информация Материал посуды ABS-...   \n1122  Дополнительная информация Вес товара с упаковк...   \n173   Дополнительная информация Материал посуды ABS-...   \n795   Дополнительная информация Материал посуды ABS-...   \n360   Дополнительная информация Особенности посуды С...   \n...                                                 ...   \n234   Дополнительная информация Эквивалент лампы нак...   \n895   Дополнительная информация Объем товара 150 мл ...   \n600   Общие характеристики Количество предметов в уп...   \n79    Габариты Вес с упаковкой (кг) 0.5 кг Длина упа...   \n612   Общие характеристики Модель F-LED A60-15W-840-...   \n\n                                            meta_text_2  \\\n75    Габариты Длина упаковки 14 см Высота упаковки ...   \n1122  Габариты Длина упаковки 14 см Высота упаковки ...   \n173   Габариты Длина упаковки 14 см Высота упаковки ...   \n795   Габариты Длина упаковки 10 см Высота упаковки ...   \n360   Габариты Длина упаковки 25 см Высота упаковки ...   \n...                                                 ...   \n234   Габариты Высота предмета 6 см Вес с упаковкой ...   \n895   Габариты Длина упаковки 20 см Высота упаковки ...   \n600   Дополнительная информация Назначение косметиче...   \n79    Дополнительная информация Тип лампы галогенова...   \n612   Дополнительная информация Эквивалент лампы нак...   \n\n                                            meta_text_3  sale_percent  \\\n75                                                  NaN      0.439720   \n1122                                                NaN      0.439720   \n173                                                 NaN      0.439720   \n795                                                 NaN      0.559560   \n360                                                 NaN      0.290000   \n...                                                 ...           ...   \n234   Общие характеристики Количество предметов в уп...      0.760000   \n895                                                 NaN      0.449898   \n600   Габариты Длина упаковки 11 см Высота упаковки ...      0.000000   \n79    Технические особенности Мощность устройства 20...      0.500000   \n612   Габариты Вес с упаковкой (кг) 0.05 кг Высота п...      0.697368   \n\n     percent_order_of_all_seller not_info_old_price not_info_order_count  \\\n75                       0.03029              False                 True   \n1122                     0.03029              False                 True   \n173                      0.03029              False                 True   \n795                      0.03029              False                 True   \n360                      0.03029              False                False   \n...                          ...                ...                  ...   \n234                      0.03029              False                False   \n895                      0.03029              False                 True   \n600                      0.03029               True                 True   \n79                       0.03029              False                False   \n612                      0.03029              False                False   \n\n     celler_working_time_norm  \n75                        5.0  \n1122                      5.0  \n173                       5.0  \n795                       5.0  \n360                      11.0  \n...                       ...  \n234                      45.0  \n895                      26.0  \n600                      10.0  \n79                       69.0  \n612                      97.0  \n\n[100 rows x 26 columns]",
      "text/html": "<div>\n<style scoped>\n    .dataframe tbody tr th:only-of-type {\n        vertical-align: middle;\n    }\n\n    .dataframe tbody tr th {\n        vertical-align: top;\n    }\n\n    .dataframe thead th {\n        text-align: right;\n    }\n</style>\n<table border=\"1\" class=\"dataframe\">\n  <thead>\n    <tr style=\"text-align: right;\">\n      <th></th>\n      <th>Unnamed: 0</th>\n      <th>url</th>\n      <th>price</th>\n      <th>old_price</th>\n      <th>order_count</th>\n      <th>celler_sold</th>\n      <th>celler_rating</th>\n      <th>name_comp</th>\n      <th>celler_mean_delivery_time</th>\n      <th>celler_percent_bad_products</th>\n      <th>...</th>\n      <th>search_category</th>\n      <th>meta_text_0</th>\n      <th>meta_text_1</th>\n      <th>meta_text_2</th>\n      <th>meta_text_3</th>\n      <th>sale_percent</th>\n      <th>percent_order_of_all_seller</th>\n      <th>not_info_old_price</th>\n      <th>not_info_order_count</th>\n      <th>celler_working_time_norm</th>\n    </tr>\n  </thead>\n  <tbody>\n    <tr>\n      <th>75</th>\n      <td>75</td>\n      <td>https://www.wildberries.ru/catalog/171471305/d...</td>\n      <td>879.0</td>\n      <td>1999.000000</td>\n      <td>11914.127626</td>\n      <td>NaN</td>\n      <td>4.9</td>\n      <td>ЭлибЭКО</td>\n      <td>99.3</td>\n      <td>99.3</td>\n      <td>...</td>\n      <td>посуда</td>\n      <td>Дополнительная информация Материал посуды ABS-...</td>\n      <td>Дополнительная информация Материал посуды ABS-...</td>\n      <td>Габариты Длина упаковки 14 см Высота упаковки ...</td>\n      <td>NaN</td>\n      <td>0.439720</td>\n      <td>0.03029</td>\n      <td>False</td>\n      <td>True</td>\n      <td>5.0</td>\n    </tr>\n    <tr>\n      <th>1122</th>\n      <td>1122</td>\n      <td>https://www.wildberries.ru/catalog/171471142/d...</td>\n      <td>879.0</td>\n      <td>1999.000000</td>\n      <td>11914.127626</td>\n      <td>NaN</td>\n      <td>4.9</td>\n      <td>ЭлибЭКО</td>\n      <td>99.3</td>\n      <td>99.3</td>\n      <td>...</td>\n      <td>посуда</td>\n      <td>Дополнительная информация Вес товара с упаковк...</td>\n      <td>Дополнительная информация Вес товара с упаковк...</td>\n      <td>Габариты Длина упаковки 14 см Высота упаковки ...</td>\n      <td>NaN</td>\n      <td>0.439720</td>\n      <td>0.03029</td>\n      <td>False</td>\n      <td>True</td>\n      <td>5.0</td>\n    </tr>\n    <tr>\n      <th>173</th>\n      <td>173</td>\n      <td>https://www.wildberries.ru/catalog/171471378/d...</td>\n      <td>879.0</td>\n      <td>1999.000000</td>\n      <td>11914.127626</td>\n      <td>NaN</td>\n      <td>4.9</td>\n      <td>ЭлибЭКО</td>\n      <td>99.3</td>\n      <td>99.3</td>\n      <td>...</td>\n      <td>посуда</td>\n      <td>Дополнительная информация Материал посуды ABS-...</td>\n      <td>Дополнительная информация Материал посуды ABS-...</td>\n      <td>Габариты Длина упаковки 14 см Высота упаковки ...</td>\n      <td>NaN</td>\n      <td>0.439720</td>\n      <td>0.03029</td>\n      <td>False</td>\n      <td>True</td>\n      <td>5.0</td>\n    </tr>\n    <tr>\n      <th>795</th>\n      <td>795</td>\n      <td>https://www.wildberries.ru/catalog/171087020/d...</td>\n      <td>559.0</td>\n      <td>999.000000</td>\n      <td>11914.127626</td>\n      <td>NaN</td>\n      <td>4.9</td>\n      <td>ЭлибЭКО</td>\n      <td>99.3</td>\n      <td>99.3</td>\n      <td>...</td>\n      <td>посуда</td>\n      <td>Дополнительная информация Материал посуды ABS-...</td>\n      <td>Дополнительная информация Материал посуды ABS-...</td>\n      <td>Габариты Длина упаковки 10 см Высота упаковки ...</td>\n      <td>NaN</td>\n      <td>0.559560</td>\n      <td>0.03029</td>\n      <td>False</td>\n      <td>True</td>\n      <td>5.0</td>\n    </tr>\n    <tr>\n      <th>360</th>\n      <td>360</td>\n      <td>https://www.wildberries.ru/catalog/98169943/de...</td>\n      <td>2030.0</td>\n      <td>7000.000000</td>\n      <td>400.000000</td>\n      <td>NaN</td>\n      <td>4.9</td>\n      <td>ReliaKool</td>\n      <td>100.0</td>\n      <td>99.3</td>\n      <td>...</td>\n      <td>посуда</td>\n      <td>Дополнительная информация Особенности посуды С...</td>\n      <td>Дополнительная информация Особенности посуды С...</td>\n      <td>Габариты Длина упаковки 25 см Высота упаковки ...</td>\n      <td>NaN</td>\n      <td>0.290000</td>\n      <td>0.03029</td>\n      <td>False</td>\n      <td>False</td>\n      <td>11.0</td>\n    </tr>\n    <tr>\n      <th>...</th>\n      <td>...</td>\n      <td>...</td>\n      <td>...</td>\n      <td>...</td>\n      <td>...</td>\n      <td>...</td>\n      <td>...</td>\n      <td>...</td>\n      <td>...</td>\n      <td>...</td>\n      <td>...</td>\n      <td>...</td>\n      <td>...</td>\n      <td>...</td>\n      <td>...</td>\n      <td>...</td>\n      <td>...</td>\n      <td>...</td>\n      <td>...</td>\n      <td>...</td>\n      <td>...</td>\n    </tr>\n    <tr>\n      <th>234</th>\n      <td>234</td>\n      <td>https://www.wildberries.ru/catalog/11508304/de...</td>\n      <td>190.0</td>\n      <td>250.000000</td>\n      <td>600.000000</td>\n      <td>NaN</td>\n      <td>3.2</td>\n      <td>REV Ritter GmbH</td>\n      <td>98.5</td>\n      <td>99.3</td>\n      <td>...</td>\n      <td>лампочки</td>\n      <td>Дополнительная информация Эквивалент лампы нак...</td>\n      <td>Дополнительная информация Эквивалент лампы нак...</td>\n      <td>Габариты Высота предмета 6 см Вес с упаковкой ...</td>\n      <td>Общие характеристики Количество предметов в уп...</td>\n      <td>0.760000</td>\n      <td>0.03029</td>\n      <td>False</td>\n      <td>False</td>\n      <td>45.0</td>\n    </tr>\n    <tr>\n      <th>895</th>\n      <td>895</td>\n      <td>https://www.wildberries.ru/catalog/170647697/d...</td>\n      <td>2200.0</td>\n      <td>4890.000000</td>\n      <td>11914.127626</td>\n      <td>NaN</td>\n      <td>4.5</td>\n      <td>Ковалева Ирина Юрьевна</td>\n      <td>99.3</td>\n      <td>99.3</td>\n      <td>...</td>\n      <td>косметика</td>\n      <td>Дополнительная информация Объем товара 150 мл ...</td>\n      <td>Дополнительная информация Объем товара 150 мл ...</td>\n      <td>Габариты Длина упаковки 20 см Высота упаковки ...</td>\n      <td>NaN</td>\n      <td>0.449898</td>\n      <td>0.03029</td>\n      <td>False</td>\n      <td>True</td>\n      <td>26.0</td>\n    </tr>\n    <tr>\n      <th>600</th>\n      <td>600</td>\n      <td>https://www.wildberries.ru/catalog/169216066/d...</td>\n      <td>1200.0</td>\n      <td>2881.913265</td>\n      <td>11914.127626</td>\n      <td>NaN</td>\n      <td>3.6</td>\n      <td>СОКОЛ</td>\n      <td>96.5</td>\n      <td>99.3</td>\n      <td>...</td>\n      <td>бритва</td>\n      <td>Общие характеристики Количество предметов в уп...</td>\n      <td>Общие характеристики Количество предметов в уп...</td>\n      <td>Дополнительная информация Назначение косметиче...</td>\n      <td>Габариты Длина упаковки 11 см Высота упаковки ...</td>\n      <td>0.000000</td>\n      <td>0.03029</td>\n      <td>True</td>\n      <td>True</td>\n      <td>10.0</td>\n    </tr>\n    <tr>\n      <th>79</th>\n      <td>79</td>\n      <td>https://www.wildberries.ru/catalog/13394908/de...</td>\n      <td>275.0</td>\n      <td>550.000000</td>\n      <td>2000.000000</td>\n      <td>NaN</td>\n      <td>4.5</td>\n      <td>Энергосистемы и Технологии</td>\n      <td>89.0</td>\n      <td>99.3</td>\n      <td>...</td>\n      <td>лампочки</td>\n      <td>Габариты Вес с упаковкой (кг) 0.5 кг Длина упа...</td>\n      <td>Габариты Вес с упаковкой (кг) 0.5 кг Длина упа...</td>\n      <td>Дополнительная информация Тип лампы галогенова...</td>\n      <td>Технические особенности Мощность устройства 20...</td>\n      <td>0.500000</td>\n      <td>0.03029</td>\n      <td>False</td>\n      <td>False</td>\n      <td>69.0</td>\n    </tr>\n    <tr>\n      <th>612</th>\n      <td>612</td>\n      <td>https://www.wildberries.ru/catalog/47400356/de...</td>\n      <td>212.0</td>\n      <td>304.000000</td>\n      <td>1200.000000</td>\n      <td>NaN</td>\n      <td>4.0</td>\n      <td>ВИП Маркет</td>\n      <td>97.3</td>\n      <td>99.3</td>\n      <td>...</td>\n      <td>лампочки</td>\n      <td>Общие характеристики Модель F-LED A60-15W-840-...</td>\n      <td>Общие характеристики Модель F-LED A60-15W-840-...</td>\n      <td>Дополнительная информация Эквивалент лампы нак...</td>\n      <td>Габариты Вес с упаковкой (кг) 0.05 кг Высота п...</td>\n      <td>0.697368</td>\n      <td>0.03029</td>\n      <td>False</td>\n      <td>False</td>\n      <td>97.0</td>\n    </tr>\n  </tbody>\n</table>\n<p>100 rows × 26 columns</p>\n</div>"
     },
     "execution_count": 54,
     "metadata": {},
     "output_type": "execute_result"
    }
   ],
   "source": [
    "nearest_dataframe"
   ],
   "metadata": {
    "collapsed": false,
    "pycharm": {
     "name": "#%%\n"
    }
   }
  },
  {
   "cell_type": "code",
   "execution_count": 82,
   "outputs": [
    {
     "name": "stderr",
     "output_type": "stream",
     "text": [
      "C:\\Users\\843E~1\\AppData\\Local\\Temp/ipykernel_4136/1250530687.py:1: SettingWithCopyWarning: \n",
      "A value is trying to be set on a copy of a slice from a DataFrame.\n",
      "Try using .loc[row_indexer,col_indexer] = value instead\n",
      "\n",
      "See the caveats in the documentation: https://pandas.pydata.org/pandas-docs/stable/user_guide/indexing.html#returning-a-view-versus-a-copy\n",
      "  nearest_dataframe[\"revenue\"] = nearest_dataframe.order_count * nearest_dataframe.price\n"
     ]
    }
   ],
   "source": [
    "nearest_dataframe[\"revenue\"] = nearest_dataframe.order_count * nearest_dataframe.price"
   ],
   "metadata": {
    "collapsed": false,
    "pycharm": {
     "name": "#%%\n"
    }
   }
  },
  {
   "cell_type": "markdown",
   "source": [
    "## смотрим на потенциал сферы - визуализируем распределение выручки за все время (кол-во продаж * цену)"
   ],
   "metadata": {
    "collapsed": false,
    "pycharm": {
     "name": "#%% md\n"
    }
   }
  },
  {
   "cell_type": "code",
   "execution_count": 131,
   "outputs": [],
   "source": [
    "\n",
    "our_revenue = out_product[\"price\"] * out_product[\"order_count\"] if out_product[\"order_count\"] is not None else 0\n",
    "revenue_median = nearest_dataframe.revenue.median()\n",
    "\n",
    "percentile = sum(our_revenue < nearest_dataframe.revenue) / len(nearest_dataframe.revenue) * 100\n",
    "\n",
    "\n",
    "comment = f\"Ваша выручка по продукту выше чем у {percentile} похожих товаров. \"\n",
    "if percentile < 80:\n",
    "    comment += \"Мы поможем улучшить это число!\"\n",
    "else:\n",
    "    comment += \"Поздравляем! Это крутой результат!\"\n",
    "\n",
    "dct_revenue = {\"nearest_revenues\": list(nearest_dataframe.revenue),\n",
    "                \"our_revenue\": our_revenue,\n",
    "                \"comment\": comment\n",
    "                }"
   ],
   "metadata": {
    "collapsed": false,
    "pycharm": {
     "name": "#%%\n"
    }
   }
  },
  {
   "cell_type": "code",
   "execution_count": 119,
   "outputs": [
    {
     "data": {
      "text/plain": "<AxesSubplot:ylabel='Count'>"
     },
     "execution_count": 119,
     "metadata": {},
     "output_type": "execute_result"
    },
    {
     "data": {
      "text/plain": "<Figure size 432x288 with 1 Axes>",
      "image/png": "[encoded data removed]"
     },
     "metadata": {
      "needs_background": "light"
     },
     "output_type": "display_data"
    }
   ],
   "source": [
    "sns.histplot(dct_revenue[\"revenue\"], log_scale=True, bins=20)\n"
   ],
   "metadata": {
    "collapsed": false,
    "pycharm": {
     "name": "#%%\n"
    }
   }
  },
  {
   "cell_type": "code",
   "execution_count": null,
   "outputs": [],
   "source": [],
   "metadata": {
    "collapsed": false,
    "pycharm": {
     "name": "#%%\n"
    }
   }
  },
  {
   "cell_type": "markdown",
   "source": [
    "## посмотрим на среднюю цену товара у продавцов с макисамльной выручкой\n",
    "## и просто покажем цены похожих товаров"
   ],
   "metadata": {
    "collapsed": false,
    "pycharm": {
     "name": "#%% md\n"
    }
   }
  },
  {
   "cell_type": "code",
   "execution_count": 106,
   "outputs": [],
   "source": [
    "best_price = nearest_dataframe.sort_values(by=\"revenue\", ascending=False).iloc[:25].price.mean()\n",
    "mean_price = nearest_dataframe.price.mean()\n",
    "our_price = float(out_product[\"price\"])\n",
    "\n",
    "comment = f\"Выша цена: {our_price}. Средняя цена в среди похожих товаров: {mean_price}; \" \\\n",
    "          f\"Цена у товаров с наибольшей выручкой: {best_price}\"\n",
    "\n",
    "comment2 = \"\"\n",
    "if our_price < best_price * 0.9:\n",
    "    comment2 = \"Возможно, Вам стоит повысить цену или снизить издержки на доставку. Мы поможем Вам реализовать потенциал продукта с помощью AI технологий\"\n",
    "elif our_price > best_price * 1.1:\n",
    "    comment2 += \"Возможно, Вам стоит понизить цену или усилить маркетинговую часть, чтобы донести клиентам ценность продукта. Мы поможем Вам это сделать с помощью AI технологий\"\n",
    "\n",
    "dct_price = {\"comment\": comment, \"personal_comment\": comment2,\n",
    "             \"nearest_prices\": list(nearest_dataframe.price), \"our_price\": out_product[\"price\"]}"
   ],
   "metadata": {
    "collapsed": false,
    "pycharm": {
     "name": "#%%\n"
    }
   }
  },
  {
   "cell_type": "code",
   "execution_count": 111,
   "outputs": [
    {
     "data": {
      "text/plain": "<AxesSubplot:ylabel='Count'>"
     },
     "execution_count": 111,
     "metadata": {},
     "output_type": "execute_result"
    },
    {
     "data": {
      "text/plain": "<Figure size 432x288 with 1 Axes>",
      "image/png": "[encoded data removed]"
     },
     "metadata": {
      "needs_background": "light"
     },
     "output_type": "display_data"
    }
   ],
   "source": [
    "sns.histplot(dct_price[\"nearest_prices\"], log_scale=True)"
   ],
   "metadata": {
    "collapsed": false,
    "pycharm": {
     "name": "#%%\n"
    }
   }
  },
  {
   "cell_type": "code",
   "execution_count": 128,
   "outputs": [],
   "source": [
    "our_rating = out_product[\"celler_rating\"]\n",
    "percentile = sum(our_rating < nearest_dataframe.celler_rating) / len(nearest_dataframe.celler_rating) * 100\n",
    "\n",
    "comment = \"\"\n",
    "if percentile < 30:\n",
    "    comment = f\"Ваш рейтинг по карточке ниже чем у {100 - percentile} похожих товаров. Это может отталкивать потенциальных покупателей при выборе товара. Для увеличения рейтинга и повышения доверия к бренду можно воспользоваться нашим генератором положительных отзывов на товар\"\n",
    "elif percentile > 60:\n",
    "    comment = f\"Ваш рейтинг по карточке выше чем у {percentile} похожих товаров. Это высокий показатель, чтобы преобразовать его в высокую выручку рассмотрите возможность запустить рекламу на маркетплейсе и других популярных платформах\"\n",
    "else:\n",
    "    comment = f\"Ваш рейтинг по карточке близок к среднему, но для повышения рейтинга и попадания в выдачу можно воспользоваться нашим генератором положительных отзывов на товар\"\n",
    "\n",
    "dct_rating = {\"comment\": comment, \"nearest_ratings\": list(nearest_dataframe.celler_rating), \"our_rating\": our_rating}"
   ],
   "metadata": {
    "collapsed": false,
    "pycharm": {
     "name": "#%%\n"
    }
   }
  },
  {
   "cell_type": "code",
   "execution_count": null,
   "outputs": [],
   "source": [],
   "metadata": {
    "collapsed": false,
    "pycharm": {
     "name": "#%%\n"
    }
   }
  },
  {
   "cell_type": "code",
   "execution_count": 132,
   "outputs": [],
   "source": [
    "analytics_result = {\"rating\": dct_rating, \"price\": dct_price, \"revenue\": dct_revenue}"
   ],
   "metadata": {
    "collapsed": false,
    "pycharm": {
     "name": "#%%\n"
    }
   }
  },
  {
   "cell_type": "code",
   "execution_count": 133,
   "outputs": [
    {
     "data": {
      "text/plain": "dict_keys(['comment', 'nearest_ratings', 'our_rating'])"
     },
     "execution_count": 133,
     "metadata": {},
     "output_type": "execute_result"
    }
   ],
   "source": [
    "dct_rating.keys()"
   ],
   "metadata": {
    "collapsed": false,
    "pycharm": {
     "name": "#%%\n"
    }
   }
  },
  {
   "cell_type": "code",
   "execution_count": 134,
   "outputs": [
    {
     "data": {
      "text/plain": "dict_keys(['comment', 'personal_comment', 'nearest_prices', 'our_price'])"
     },
     "execution_count": 134,
     "metadata": {},
     "output_type": "execute_result"
    }
   ],
   "source": [
    "dct_price.keys()"
   ],
   "metadata": {
    "collapsed": false,
    "pycharm": {
     "name": "#%%\n"
    }
   }
  },
  {
   "cell_type": "code",
   "execution_count": 135,
   "outputs": [
    {
     "data": {
      "text/plain": "dict_keys(['nearest_revenues', 'our_revenue', 'comment'])"
     },
     "execution_count": 135,
     "metadata": {},
     "output_type": "execute_result"
    }
   ],
   "source": [
    "dct_revenue.keys()"
   ],
   "metadata": {
    "collapsed": false,
    "pycharm": {
     "name": "#%%\n"
    }
   }
  },
  {
   "cell_type": "code",
   "execution_count": null,
   "outputs": [],
   "source": [],
   "metadata": {
    "collapsed": false,
    "pycharm": {
     "name": "#%%\n"
    }
   }
  },
  {
   "cell_type": "code",
   "execution_count": 136,
   "outputs": [],
   "source": [
    "from get_analytics import get_analytics"
   ],
   "metadata": {
    "collapsed": false,
    "pycharm": {
     "name": "#%%\n"
    }
   }
  },
  {
   "cell_type": "code",
   "execution_count": 137,
   "outputs": [],
   "source": [
    "json_data = json.load(open(\"resule_parsing.json\", \"r\", encoding=\"utf-8\"))\n",
    "out_product = json_data[20]"
   ],
   "metadata": {
    "collapsed": false,
    "pycharm": {
     "name": "#%%\n"
    }
   }
  },
  {
   "cell_type": "code",
   "execution_count": 141,
   "outputs": [
    {
     "name": "stderr",
     "output_type": "stream",
     "text": [
      "E:\\DIR_python_projects\\generation_hack\\ml_analytics\\get_analytics.py:31: SettingWithCopyWarning: \n",
      "A value is trying to be set on a copy of a slice from a DataFrame.\n",
      "Try using .loc[row_indexer,col_indexer] = value instead\n",
      "\n",
      "See the caveats in the documentation: https://pandas.pydata.org/pandas-docs/stable/user_guide/indexing.html#returning-a-view-versus-a-copy\n",
      "  nearest_dataframe[\"revenue\"] = nearest_dataframe.order_count * nearest_dataframe.price\n"
     ]
    }
   ],
   "source": [
    "json.dump(get_analytics(out_product),\n",
    "          open(\"analytic_answer_result.json\", \"w\", encoding=\"utf-8\"),\n",
    "          ensure_ascii=False,\n",
    "          indent=4)"
   ],
   "metadata": {
    "collapsed": false,
    "pycharm": {
     "name": "#%%\n"
    }
   }
  },
  {
   "cell_type": "code",
   "execution_count": 13,
   "outputs": [],
   "source": [
    "import numpy as np\n",
    "%load_ext autoreload\n",
    "%autoreload 2"
   ],
   "metadata": {
    "collapsed": false,
    "pycharm": {
     "name": "#%%\n"
    }
   }
  },
  {
   "cell_type": "code",
   "execution_count": 20,
   "outputs": [],
   "source": [
    "import json\n",
    "\n",
    "\n",
    "json_data = json.load(open(\"resule_parsing_new.json\", \"r\", encoding=\"utf-8\"))"
   ],
   "metadata": {
    "collapsed": false,
    "pycharm": {
     "name": "#%%\n"
    }
   }
  },
  {
   "cell_type": "code",
   "execution_count": 15,
   "outputs": [],
   "source": [
    "from get_regressor_predict_by_product import get_predict"
   ],
   "metadata": {
    "collapsed": false,
    "pycharm": {
     "name": "#%%\n"
    }
   }
  },
  {
   "cell_type": "code",
   "execution_count": 21,
   "outputs": [],
   "source": [
    "from copy import copy\n",
    "from PIL import Image\n",
    "sample = copy(json_data[10])\n",
    "image = Image.open(\"img.JPG\")"
   ],
   "metadata": {
    "collapsed": false,
    "pycharm": {
     "name": "#%%\n"
    }
   }
  },
  {
   "cell_type": "code",
   "execution_count": 22,
   "outputs": [
    {
     "data": {
      "text/plain": "14830412.318821222"
     },
     "execution_count": 22,
     "metadata": {},
     "output_type": "execute_result"
    }
   ],
   "source": [
    "get_predict(sample, image)"
   ],
   "metadata": {
    "collapsed": false,
    "pycharm": {
     "name": "#%%\n"
    }
   }
  },
  {
   "cell_type": "code",
   "execution_count": null,
   "outputs": [],
   "source": [],
   "metadata": {
    "collapsed": false,
    "pycharm": {
     "name": "#%%\n"
    }
   }
  }
 ],
 "metadata": {
  "kernelspec": {
   "display_name": "Python 3",
   "language": "python",
   "name": "python3"
  },
  "language_info": {
   "codemirror_mode": {
    "name": "ipython",
    "version": 2
   },
   "file_extension": ".py",
   "mimetype": "text/x-python",
   "name": "python",
   "nbconvert_exporter": "python",
   "pygments_lexer": "ipython2",
   "version": "2.7.6"
  }
 },
 "nbformat": 4,
 "nbformat_minor": 0
}