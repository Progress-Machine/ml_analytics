{
 "cells": [
  {
   "cell_type": "code",
   "execution_count": 1,
   "id": "05112681",
   "metadata": {},
   "outputs": [],
   "source": [
    "import json\n",
    "import pandas as pd\n",
    "import re\n",
    "import dateparser\n",
    "import pickle\n",
    "import datetime\n",
    "import numpy as np\n",
    "import matplotlib.pyplot as plt\n",
    "from sklearn.feature_extraction.text import TfidfVectorizer\n",
    "from sklearn.decomposition import LatentDirichletAllocation as LDA\n",
    "import pymorphy2\n",
    "from sklearn.manifold import TSNE\n",
    "import umap\n",
    "import matplotlib.cm as cm\n",
    "from sklearn.neighbors import KDTree\n",
    "from sklearn.feature_extraction.text import CountVectorizer\n",
    "from sklearn.decomposition import PCA, TruncatedSVD, NMF, SparsePCA, FactorAnalysis\n",
    "from sklearn.cluster import KMeans\n",
    "from sklearn.preprocessing import StandardScaler, Normalizer\n",
    "\n",
    "morph = pymorphy2.MorphAnalyzer(lang='ru')\n",
    "\n",
    "from nltk.corpus import stopwords\n",
    "russian_stopwords = stopwords.words(\"russian\")\n",
    "\n",
    "from tqdm import tqdm\n",
    "tqdm.pandas()"
   ]
  },
  {
   "cell_type": "code",
   "execution_count": 38,
   "id": "f63fe1f0",
   "metadata": {},
   "outputs": [],
   "source": [
    "data = json.load(open(\"resule_parsing_new.json\", \"r\", encoding=\"utf-8\"))\n",
    "df = pd.DataFrame(data)\n",
    "origin_df = df.copy()"
   ]
  },
  {
   "cell_type": "code",
   "execution_count": 7,
   "id": "4288419c",
   "metadata": {},
   "outputs": [
    {
     "name": "stderr",
     "output_type": "stream",
     "text": [
      "100%|██████████| 15459/15459 [03:53<00:00, 66.21it/s]\n"
     ]
    }
   ],
   "source": [
    "df[\"description\"] = df[\"description\"].map(lambda x: re.sub('[0-9:,\\.!?]', '', x))\n",
    "df[\"description\"] = df[\"description\"].progress_map(lambda x: \" \".join([morph.parse(word)[0].normal_form for word in x.split() if word not in russian_stopwords]))"
   ]
  },
  {
   "cell_type": "code",
   "execution_count": 18,
   "outputs": [],
   "source": [
    "with open(\"decription.pkl\", \"wb\") as f:\n",
    "    pickle.dump(df[\"description\"], f)"
   ],
   "metadata": {
    "collapsed": false,
    "pycharm": {
     "name": "#%%\n"
    }
   }
  },
  {
   "cell_type": "code",
   "execution_count": 39,
   "outputs": [],
   "source": [
    "df[\"description\"] = pickle.load(open(\"decription.pkl\", \"rb\"))"
   ],
   "metadata": {
    "collapsed": false,
    "pycharm": {
     "name": "#%%\n"
    }
   }
  },
  {
   "cell_type": "code",
   "execution_count": 39,
   "outputs": [],
   "source": [],
   "metadata": {
    "collapsed": false,
    "pycharm": {
     "name": "#%%\n"
    }
   }
  },
  {
   "cell_type": "code",
   "execution_count": 40,
   "outputs": [
    {
     "data": {
      "text/plain": "['Дополнительная информация Декоративные элементы высокая резинка Особенности модели хлопок Страна производства Россия Модель спортивная носки высокие спортивные Пол Женский',\n 'Дополнительная информация Декоративные элементы высокая резинка Особенности модели хлопок Страна производства Россия Модель спортивная носки высокие спортивные Пол Женский Сезон демисезон',\n 'Габариты Длина упаковки 4 см Высота упаковки 25 см Ширина упаковки 8 см']"
     },
     "execution_count": 40,
     "metadata": {},
     "output_type": "execute_result"
    }
   ],
   "source": [
    "data[0][\"text_params\"]"
   ],
   "metadata": {
    "collapsed": false,
    "pycharm": {
     "name": "#%%\n"
    }
   }
  },
  {
   "cell_type": "code",
   "execution_count": 41,
   "id": "3a3c0fb2",
   "metadata": {},
   "outputs": [
    {
     "name": "stderr",
     "output_type": "stream",
     "text": [
      "C:\\Users\\Никита\\AppData\\Roaming\\Python\\Python39\\site-packages\\sklearn\\base.py:347: InconsistentVersionWarning: Trying to unpickle estimator TfidfTransformer from version 1.2.1 when using version 1.3.0. This might lead to breaking code or invalid results. Use at your own risk. For more info please refer to:\n",
      "https://scikit-learn.org/stable/model_persistence.html#security-maintainability-limitations\n",
      "  warnings.warn(\n",
      "C:\\Users\\Никита\\AppData\\Roaming\\Python\\Python39\\site-packages\\sklearn\\base.py:347: InconsistentVersionWarning: Trying to unpickle estimator TfidfVectorizer from version 1.2.1 when using version 1.3.0. This might lead to breaking code or invalid results. Use at your own risk. For more info please refer to:\n",
      "https://scikit-learn.org/stable/model_persistence.html#security-maintainability-limitations\n",
      "  warnings.warn(\n",
      "C:\\Users\\Никита\\AppData\\Roaming\\Python\\Python39\\site-packages\\sklearn\\base.py:347: InconsistentVersionWarning: Trying to unpickle estimator LatentDirichletAllocation from version 1.2.1 when using version 1.3.0. This might lead to breaking code or invalid results. Use at your own risk. For more info please refer to:\n",
      "https://scikit-learn.org/stable/model_persistence.html#security-maintainability-limitations\n",
      "  warnings.warn(\n"
     ]
    }
   ],
   "source": [
    "tfidf = pickle.load(open(\"models/tdidf.pickle\", \"rb\"))\n",
    "lda = pickle.load(open(\"models/lda.pickle\", \"rb\"))"
   ]
  },
  {
   "cell_type": "code",
   "execution_count": 42,
   "id": "863f899c",
   "metadata": {},
   "outputs": [],
   "source": [
    "class TopicModeler(object):\n",
    "    def __init__(self, tfidf, lda):\n",
    "        self.lda = lda\n",
    "        self.tfidf = tfidf\n",
    "\n",
    "    def __call__(self, text):\n",
    "        vectorized = self.tfidf.transform([text])\n",
    "        lda_topics = self.lda.transform(vectorized)\n",
    "        return lda_topics\n",
    "    \n",
    "    def get_keywords(self, text, n_topics=3, n_keywords=5):\n",
    "        lda_topics = np.squeeze(self(text), axis=0)\n",
    "        n_topics_indices = lda_topics.argsort()[-n_topics:][::-1]\n",
    "\n",
    "        top_topics_words_dists = [self.lda.components_[i] for i in n_topics_indices]\n",
    "\n",
    "        shape= (n_keywords * n_topics, self.lda.components_.shape[1])\n",
    "        keywords = np.zeros(shape=shape)\n",
    "        for i, topic in enumerate(top_topics_words_dists):\n",
    "            n_keywords_indices = topic.argsort()[-n_keywords:][::-1]\n",
    "            for k, j in enumerate(n_keywords_indices):\n",
    "                keywords[i * n_keywords + k, j] = 1\n",
    "                \n",
    "        keywords = [keyword[0] for keyword in self.count_vect.inverse_transform(keywords)]\n",
    "        return keywords\n",
    "    \n",
    "    \n",
    "topic = TopicModeler(tfidf, lda)"
   ]
  },
  {
   "cell_type": "code",
   "execution_count": 43,
   "id": "1315d14d",
   "metadata": {},
   "outputs": [
    {
     "data": {
      "text/plain": "                                                name  \\\n0                                Носки высокие набор   \n1  Шторы портьеры Бархат для спальни гостиной 250...   \n2                                   Кеды текстильные   \n3  Лампа накаливания для духовок (+300°) E14 15Вт...   \n4  Набор свечи из вощины воска натуральные аромат...   \n\n                                                 url price old_price  \\\n0  https://www.wildberries.ru/catalog/55139609/de...   394      2193   \n1  https://www.wildberries.ru/catalog/88868650/de...  5248     14580   \n2  https://www.wildberries.ru/catalog/7741188/det...  1036      1920   \n3  https://www.wildberries.ru/catalog/154480245/d...   228      None   \n4  https://www.wildberries.ru/catalog/17163883/de...   316       720   \n\n   order_count  celler_sold  celler_rating                 name_comp  \\\n0      14000.0     180284.0            4.8                    RIFTEX   \n1       1600.0     232888.0            4.6                 ПАРАСКЕВА   \n2      59600.0    1073051.0            4.6                   MakFine   \n3        200.0      20816.0            4.3   Premium Express On-Line   \n4      26000.0      74753.0            4.7  Баскаков Алексей Юрьевич   \n\n  celler_mean_delivery_time celler_percent_bad_products celler_working_time  \\\n0                     99.6%                        0.1%      2 года и 4 мес   \n1                      None                        0.3%       5 лет и 7 мес   \n2                      None                        0.4%       7 лет и 4 мес   \n3                     97.7%                        0.2%      3 года и 1 мес   \n4                      100%                          0%      2 года и 8 мес   \n\n                                celler_link  \\\n0  https://www.wildberries.ru/seller/189865   \n1   https://www.wildberries.ru/seller/25234   \n2   https://www.wildberries.ru/seller/12173   \n3   https://www.wildberries.ru/seller/64509   \n4  https://www.wildberries.ru/seller/108647   \n\n                                            img_link  \\\n0  https://basket-04.wb.ru/vol551/part55139/55139...   \n1  https://basket-05.wb.ru/vol888/part88868/88868...   \n2  https://basket-01.wb.ru/vol77/part7741/7741188...   \n3  https://basket-10.wb.ru/vol1544/part154480/154...   \n4  https://basket-02.wb.ru/vol171/part17163/17163...   \n\n                                         description  \\\n0  трендовый высокий красивый носка девушка женщи...   \n1  бархатный готовый штора портьера елизавета три...   \n2  лёгкий практичный женский кед плоский подошва ...   \n3  лампа накаливание освещение духовка изготовить...   \n4  набор свеча вощин изготовить натуральный пчели...   \n\n                                         text_params  \\\n0  [Дополнительная информация Декоративные элемен...   \n1  [Дополнительная информация Тип крепления штор ...   \n2  [Дополнительная информация Материал стельки на...   \n3  [Технические особенности Напряжение 220 В Мощн...   \n4  [Дополнительная информация Вес товара с упаков...   \n\n                                       comments_link search_category  \n0  https://www.wildberries.ru/catalog/55139609/fe...           носки  \n1  https://www.wildberries.ru/catalog/88868650/fe...           шторы  \n2  https://www.wildberries.ru/catalog/7741188/fee...        кросовки  \n3  https://www.wildberries.ru/catalog/154480245/f...        лампочки  \n4  https://www.wildberries.ru/catalog/17163883/fe...           свечи  ",
      "text/html": "<div>\n<style scoped>\n    .dataframe tbody tr th:only-of-type {\n        vertical-align: middle;\n    }\n\n    .dataframe tbody tr th {\n        vertical-align: top;\n    }\n\n    .dataframe thead th {\n        text-align: right;\n    }\n</style>\n<table border=\"1\" class=\"dataframe\">\n  <thead>\n    <tr style=\"text-align: right;\">\n      <th></th>\n      <th>name</th>\n      <th>url</th>\n      <th>price</th>\n      <th>old_price</th>\n      <th>order_count</th>\n      <th>celler_sold</th>\n      <th>celler_rating</th>\n      <th>name_comp</th>\n      <th>celler_mean_delivery_time</th>\n      <th>celler_percent_bad_products</th>\n      <th>celler_working_time</th>\n      <th>celler_link</th>\n      <th>img_link</th>\n      <th>description</th>\n      <th>text_params</th>\n      <th>comments_link</th>\n      <th>search_category</th>\n    </tr>\n  </thead>\n  <tbody>\n    <tr>\n      <th>0</th>\n      <td>Носки высокие набор</td>\n      <td>https://www.wildberries.ru/catalog/55139609/de...</td>\n      <td>394</td>\n      <td>2193</td>\n      <td>14000.0</td>\n      <td>180284.0</td>\n      <td>4.8</td>\n      <td>RIFTEX</td>\n      <td>99.6%</td>\n      <td>0.1%</td>\n      <td>2 года и 4 мес</td>\n      <td>https://www.wildberries.ru/seller/189865</td>\n      <td>https://basket-04.wb.ru/vol551/part55139/55139...</td>\n      <td>трендовый высокий красивый носка девушка женщи...</td>\n      <td>[Дополнительная информация Декоративные элемен...</td>\n      <td>https://www.wildberries.ru/catalog/55139609/fe...</td>\n      <td>носки</td>\n    </tr>\n    <tr>\n      <th>1</th>\n      <td>Шторы портьеры Бархат для спальни гостиной 250...</td>\n      <td>https://www.wildberries.ru/catalog/88868650/de...</td>\n      <td>5248</td>\n      <td>14580</td>\n      <td>1600.0</td>\n      <td>232888.0</td>\n      <td>4.6</td>\n      <td>ПАРАСКЕВА</td>\n      <td>None</td>\n      <td>0.3%</td>\n      <td>5 лет и 7 мес</td>\n      <td>https://www.wildberries.ru/seller/25234</td>\n      <td>https://basket-05.wb.ru/vol888/part88868/88868...</td>\n      <td>бархатный готовый штора портьера елизавета три...</td>\n      <td>[Дополнительная информация Тип крепления штор ...</td>\n      <td>https://www.wildberries.ru/catalog/88868650/fe...</td>\n      <td>шторы</td>\n    </tr>\n    <tr>\n      <th>2</th>\n      <td>Кеды текстильные</td>\n      <td>https://www.wildberries.ru/catalog/7741188/det...</td>\n      <td>1036</td>\n      <td>1920</td>\n      <td>59600.0</td>\n      <td>1073051.0</td>\n      <td>4.6</td>\n      <td>MakFine</td>\n      <td>None</td>\n      <td>0.4%</td>\n      <td>7 лет и 4 мес</td>\n      <td>https://www.wildberries.ru/seller/12173</td>\n      <td>https://basket-01.wb.ru/vol77/part7741/7741188...</td>\n      <td>лёгкий практичный женский кед плоский подошва ...</td>\n      <td>[Дополнительная информация Материал стельки на...</td>\n      <td>https://www.wildberries.ru/catalog/7741188/fee...</td>\n      <td>кросовки</td>\n    </tr>\n    <tr>\n      <th>3</th>\n      <td>Лампа накаливания для духовок (+300°) E14 15Вт...</td>\n      <td>https://www.wildberries.ru/catalog/154480245/d...</td>\n      <td>228</td>\n      <td>None</td>\n      <td>200.0</td>\n      <td>20816.0</td>\n      <td>4.3</td>\n      <td>Premium Express On-Line</td>\n      <td>97.7%</td>\n      <td>0.2%</td>\n      <td>3 года и 1 мес</td>\n      <td>https://www.wildberries.ru/seller/64509</td>\n      <td>https://basket-10.wb.ru/vol1544/part154480/154...</td>\n      <td>лампа накаливание освещение духовка изготовить...</td>\n      <td>[Технические особенности Напряжение 220 В Мощн...</td>\n      <td>https://www.wildberries.ru/catalog/154480245/f...</td>\n      <td>лампочки</td>\n    </tr>\n    <tr>\n      <th>4</th>\n      <td>Набор свечи из вощины воска натуральные аромат...</td>\n      <td>https://www.wildberries.ru/catalog/17163883/de...</td>\n      <td>316</td>\n      <td>720</td>\n      <td>26000.0</td>\n      <td>74753.0</td>\n      <td>4.7</td>\n      <td>Баскаков Алексей Юрьевич</td>\n      <td>100%</td>\n      <td>0%</td>\n      <td>2 года и 8 мес</td>\n      <td>https://www.wildberries.ru/seller/108647</td>\n      <td>https://basket-02.wb.ru/vol171/part17163/17163...</td>\n      <td>набор свеча вощин изготовить натуральный пчели...</td>\n      <td>[Дополнительная информация Вес товара с упаков...</td>\n      <td>https://www.wildberries.ru/catalog/17163883/fe...</td>\n      <td>свечи</td>\n    </tr>\n  </tbody>\n</table>\n</div>"
     },
     "execution_count": 43,
     "metadata": {},
     "output_type": "execute_result"
    }
   ],
   "source": [
    "df.head()"
   ]
  },
  {
   "cell_type": "code",
   "execution_count": 44,
   "id": "04bbfd70",
   "metadata": {},
   "outputs": [],
   "source": [
    "for text_feature in range(4):\n",
    "    for i in range(len(data)):\n",
    "        if text_feature < len(df.loc[i, \"text_params\"]):\n",
    "            df.loc[i, f\"meta_text_{text_feature}\"] = df.loc[i, \"text_params\"][text_feature]\n",
    "\n",
    "df[\"price\"] = df[\"price\"].astype(\"float\")\n",
    "df[\"old_price\"] = df[\"old_price\"].astype(\"float\")\n",
    "df[\"celler_mean_delivery_time\"] = df[\"celler_mean_delivery_time\"].apply(lambda x: float(x[:x.index(\"%\")]) if x is not None else 99.3)\n",
    "df[\"celler_percent_bad_products\"] = df[\"celler_percent_bad_products\"].apply(lambda x: float(x[:x.index(\"%\")]) if x is not None else 99.3)\n",
    "\n",
    "def string_to_date(text):\n",
    "    \"\"\"переводим строку с тем сколько работал в число месяцев\"\"\"\n",
    "    if text is None:\n",
    "        return None\n",
    "    if text == \"Новый магазин\":\n",
    "        return 0\n",
    "    years, months = 0, 0\n",
    "    words = text.split()\n",
    "    if len(words) == 5:\n",
    "        years = words[0]\n",
    "        months = words[3]\n",
    "    elif len(words) == 2:\n",
    "        if words[1] in [\"лет\", \"года\"]:\n",
    "            years = words[0]\n",
    "        else:\n",
    "            months = words[0]\n",
    "    return int(years) * 12 + int(months)\n",
    "\n",
    "df[\"sale_percent\"] = (df[\"price\"] / df[\"old_price\"]).fillna(0)\n",
    "df[\"percent_order_of_all_seller\"] = (df[\"order_count\"] / df[\"celler_sold\"]).fillna(0.03029)\n",
    "df[\"not_info_old_price\"] = df[\"old_price\"].isna()\n",
    "df[\"not_info_order_count\"] = df[\"order_count\"].isna()\n",
    "df[\"celler_working_time_norm\"] = df[\"celler_working_time\"].apply(string_to_date)"
   ]
  },
  {
   "cell_type": "code",
   "execution_count": 45,
   "id": "eb800102",
   "metadata": {},
   "outputs": [],
   "source": [
    "# сделать потом классификатор search category и юзать!\n",
    "\n",
    "df.drop([\"celler_sold\", \"comments_link\", \"meta_text_0\", \n",
    "         \"meta_text_1\", \"meta_text_2\", \"meta_text_3\", \"celler_working_time\",\n",
    "         \"name_comp\", \"celler_link\", \"img_link\", \"text_params\", \"search_category\", \"name\"], axis=1, inplace=True)\n",
    "\n",
    "for feature in [\"celler_working_time_norm\", \"old_price\", \"order_count\", \"price\", \"celler_rating\"]:\n",
    "    df[feature] = df[feature].fillna(df[feature].mean())"
   ]
  },
  {
   "cell_type": "code",
   "execution_count": 46,
   "id": "2c5c6e6b",
   "metadata": {
    "scrolled": true
   },
   "outputs": [],
   "source": [
    "df.to_csv(\"original_data.csv\")"
   ]
  },
  {
   "cell_type": "code",
   "execution_count": 24,
   "id": "1738e2c6",
   "metadata": {},
   "outputs": [
    {
     "name": "stdout",
     "output_type": "stream",
     "text": [
      "The autoreload extension is already loaded. To reload it, use:\n",
      "  %reload_ext autoreload\n"
     ]
    }
   ],
   "source": [
    "%load_ext autoreload\n",
    "%autoreload 2"
   ]
  },
  {
   "cell_type": "code",
   "execution_count": 25,
   "id": "04c712ad",
   "metadata": {},
   "outputs": [],
   "source": [
    "descr = tfidf.fit_transform(df[\"description\"])\n",
    "text_embeddings = lda.transform(descr)"
   ]
  },
  {
   "cell_type": "code",
   "execution_count": 25,
   "id": "12741618",
   "metadata": {},
   "outputs": [],
   "source": []
  },
  {
   "cell_type": "code",
   "execution_count": 26,
   "id": "a5912518",
   "metadata": {},
   "outputs": [],
   "source": [
    "urls = df[\"url\"]\n",
    "df.drop([\"url\", \"description\"], axis=1, inplace=True)"
   ]
  },
  {
   "cell_type": "code",
   "execution_count": 23,
   "id": "537c63c7",
   "metadata": {},
   "outputs": [],
   "source": []
  },
  {
   "cell_type": "code",
   "execution_count": 27,
   "id": "7878d879",
   "metadata": {
    "scrolled": true
   },
   "outputs": [
    {
     "name": "stderr",
     "output_type": "stream",
     "text": [
      "C:\\Users\\Никита\\AppData\\Roaming\\Python\\Python39\\site-packages\\sklearn\\base.py:457: UserWarning: X has feature names, but Normalizer was fitted without feature names\n",
      "  warnings.warn(\n"
     ]
    }
   ],
   "source": [
    "normalizer = Normalizer().fit(df.values)\n",
    "pickle.dump(normalizer, open(\"models/normalizer.pickle\", \"wb\"))\n",
    "\n",
    "df = pd.DataFrame(data=normalizer.transform(df), columns=df.columns)\n",
    "df = df.join(pd.DataFrame(data=text_embeddings*10, columns=[f\"embed_{i}\" for i in range(text_embeddings.shape[1])]))"
   ]
  },
  {
   "cell_type": "code",
   "execution_count": 27,
   "id": "1a765f58",
   "metadata": {},
   "outputs": [],
   "source": []
  },
  {
   "cell_type": "code",
   "execution_count": 28,
   "id": "f2deb826",
   "metadata": {},
   "outputs": [
    {
     "name": "stderr",
     "output_type": "stream",
     "text": [
      "C:\\Users\\Никита\\AppData\\Roaming\\Python\\Python39\\site-packages\\sklearn\\cluster\\_kmeans.py:1412: FutureWarning: The default value of `n_init` will change from 10 to 'auto' in 1.4. Set the value of `n_init` explicitly to suppress the warning\n",
      "  super()._check_params_vs_input(X, default_n_init=10)\n"
     ]
    }
   ],
   "source": [
    "CLUST_N = 40\n",
    "\n",
    "kmeans = KMeans(n_clusters=CLUST_N)\n",
    "clust_labels = kmeans.fit_predict(df)\n",
    "clust_centers = kmeans.cluster_centers_"
   ]
  },
  {
   "cell_type": "code",
   "execution_count": 28,
   "id": "570eac42",
   "metadata": {},
   "outputs": [],
   "source": []
  },
  {
   "cell_type": "code",
   "execution_count": 29,
   "id": "b3626ddc",
   "metadata": {},
   "outputs": [
    {
     "name": "stderr",
     "output_type": "stream",
     "text": [
      "C:\\Users\\Никита\\AppData\\Roaming\\Python\\Python39\\site-packages\\sklearn\\manifold\\_spectral_embedding.py:392: UserWarning: Exited at iteration 14 with accuracies \n",
      "[1.85038910e-12 5.18980976e-06 1.00891500e-05 5.53938373e-06]\n",
      "not reaching the requested tolerance 7.2099930651839046e-06.\n",
      "  _, diffusion_map = lobpcg(\n"
     ]
    }
   ],
   "source": [
    "umap_clustering = umap.UMAP(n_components=2, min_dist=0.2)\n",
    "umap_embeddings = umap_clustering.fit_transform(df.values)"
   ]
  },
  {
   "cell_type": "code",
   "execution_count": 26,
   "id": "8726d95e",
   "metadata": {},
   "outputs": [],
   "source": []
  },
  {
   "cell_type": "code",
   "execution_count": 30,
   "id": "0b99b51f",
   "metadata": {},
   "outputs": [],
   "source": [
    "clusters = {clust_ind : [] for clust_ind in range(CLUST_N)}\n",
    "\n",
    "for emb, label in zip(umap_embeddings, clust_labels):\n",
    "    clusters[label].append(emb)\n",
    "\n",
    "for key in clusters.keys():\n",
    "    clusters[key] = np.array(clusters[key])"
   ]
  },
  {
   "cell_type": "code",
   "execution_count": 31,
   "id": "ccd9183d",
   "metadata": {},
   "outputs": [],
   "source": [
    "colors = cm.rainbow(np.linspace(0, 1, CLUST_N))"
   ]
  },
  {
   "cell_type": "code",
   "execution_count": 31,
   "id": "dbaaa315",
   "metadata": {},
   "outputs": [],
   "source": []
  },
  {
   "cell_type": "code",
   "execution_count": 32,
   "id": "bc5563a3",
   "metadata": {},
   "outputs": [
    {
     "data": {
      "text/plain": "<Figure size 720x720 with 1 Axes>",
      "image/png": "[encoded data removed]"
     },
     "metadata": {
      "needs_background": "light"
     },
     "output_type": "display_data"
    }
   ],
   "source": [
    "plt.figure(figsize=(10,10))\n",
    "for ind, color in zip(range(30), colors):\n",
    "    x = clusters[ind][:,0]\n",
    "    y = clusters[ind][:,1]\n",
    "    plt.scatter(x, y, color=color)\n",
    "    \n",
    "plt.show()"
   ]
  },
  {
   "cell_type": "code",
   "execution_count": 32,
   "id": "288ee970",
   "metadata": {},
   "outputs": [],
   "source": []
  },
  {
   "cell_type": "code",
   "execution_count": 32,
   "id": "d8af47c0",
   "metadata": {},
   "outputs": [],
   "source": []
  },
  {
   "cell_type": "code",
   "execution_count": 33,
   "id": "7e2f0f83",
   "metadata": {},
   "outputs": [],
   "source": [
    "clusters_domain = pd.DataFrame(data=umap_embeddings, columns=[\"embed_1\", \"embed_2\"])\n",
    "clusters_domain[\"url\"] = urls"
   ]
  },
  {
   "cell_type": "code",
   "execution_count": 34,
   "id": "5a376cdb",
   "metadata": {},
   "outputs": [],
   "source": [
    "clusters_domain.to_csv(\"clusters_domain.csv\")\n",
    "#origin_df.to_csv(\"original_data.csv\")"
   ]
  },
  {
   "cell_type": "code",
   "execution_count": 31,
   "id": "d1cc59b2",
   "metadata": {},
   "outputs": [],
   "source": []
  },
  {
   "cell_type": "code",
   "execution_count": 35,
   "id": "8ac45a7d",
   "metadata": {},
   "outputs": [
    {
     "name": "stderr",
     "output_type": "stream",
     "text": [
      "c:\\users\\никита\\appdata\\local\\programs\\python\\python39\\lib\\site-packages\\scipy\\sparse\\_index.py:146: SparseEfficiencyWarning: Changing the sparsity structure of a csr_matrix is expensive. lil_matrix is more efficient.\n",
      "  self._set_arrayXarray(i, j, x)\n"
     ]
    }
   ],
   "source": [
    "pickle.dump(umap_clustering, open(\"models/umap_clustering.pickle\", \"wb\"))"
   ]
  },
  {
   "cell_type": "code",
   "execution_count": 35,
   "id": "94d6aa44",
   "metadata": {},
   "outputs": [],
   "source": []
  },
  {
   "cell_type": "code",
   "execution_count": null,
   "id": "e4d6d0e4",
   "metadata": {},
   "outputs": [],
   "source": []
  },
  {
   "cell_type": "code",
   "execution_count": 43,
   "id": "4b435c1d",
   "metadata": {},
   "outputs": [],
   "source": [
    "def preprocess_data(data):\n",
    "    df = pd.DataFrame(data).iloc[0]\n",
    "    df[\"description\"] = re.sub('[0-9:,\\.!?]', '', df[\"description\"])\n",
    "    df[\"description\"] = \" \".join([morph.parse(word)[0].normal_form for word in df[\"description\"].split() if word not in russian_stopwords])\n",
    "    \n",
    "    df[\"price\"] = float(df[\"price\"])\n",
    "    df[\"old_price\"] = float(df[\"old_price\"])\n",
    "    df[\"celler_mean_delivery_time\"] = float(df[\"celler_mean_delivery_time\"][:df[\"celler_mean_delivery_time\"].index(\"%\")]) if df[\"celler_mean_delivery_time\"] is not None else 99.3\n",
    "    df[\"celler_percent_bad_products\"] = float(df[\"celler_percent_bad_products\"][:df[\"celler_percent_bad_products\"].index(\"%\")]) if df[\"celler_percent_bad_products\"] is not None else 99.3\n",
    "    df[\"sale_percent\"] = (df[\"price\"] / df[\"old_price\"]) if df[\"price\"] is not None else 0\n",
    "    df[\"not_info_order_count\"] = 1 if df[\"order_count\"] is None else 0\n",
    "    df[\"celler_sold\"] = df[\"celler_sold\"] if df[\"celler_sold\"] is not None else 1\n",
    "    \n",
    "    df[\"percent_order_of_all_seller\"] = (df[\"order_count\"] / df[\"celler_sold\"]) if df[\"order_count\"] is not None else 0.03029\n",
    "    df[\"not_info_old_price\"] = 1 if df[\"old_price\"] is None else 0\n",
    "    df[\"celler_working_time_norm\"] = string_to_date(df[\"celler_working_time\"])\n",
    "    \n",
    "    df.drop([\"celler_sold\", \"comments_link\", \"celler_working_time\",\n",
    "         \"name_comp\", \"celler_link\", \"img_link\", \"text_params\", \"search_category\"], inplace=True)\n",
    "\n",
    "    for feature, mean in zip([\"celler_working_time_norm\", \"old_price\", \"order_count\", \"price\", \"celler_rating\"],\n",
    "                             [0.014, 0.58, 0.5, 0.26, 0.002]):\n",
    "        df[feature] = mean if df[feature] is None else df[feature]\n",
    "    \n",
    "    descr = tfidf.transform([df[\"description\"]])\n",
    "    text_embeddings = lda.transform(descr)\n",
    "    \n",
    "    urls = df[\"url\"]\n",
    "    df.drop([\"url\", \"description\"], inplace=True)\n",
    "    \n",
    "    columns = ['price', 'old_price', 'order_count', 'celler_rating', 'celler_mean_delivery_time', \n",
    "               'celler_percent_bad_products', 'sale_percent', 'percent_order_of_all_seller', \n",
    "               'not_info_old_price','not_info_order_count', 'celler_working_time_norm']\n",
    "    df = pd.DataFrame(data=normalizer.transform(df.values.reshape((1, -1))), columns=columns)\n",
    "    df = df.join(pd.DataFrame(data=text_embeddings*10, columns=[f\"embed_{i}\" for i in range(text_embeddings.shape[1])]))\n",
    "    return df"
   ]
  },
  {
   "cell_type": "code",
   "execution_count": 37,
   "id": "ec77344c",
   "metadata": {},
   "outputs": [],
   "source": [
    "tree = KDTree(df, leaf_size=2)\n",
    "pickle.dump(tree, open(\"models/kd_tree.pickle\", \"wb\"))"
   ]
  },
  {
   "cell_type": "code",
   "execution_count": 45,
   "id": "dab9f7b7",
   "metadata": {},
   "outputs": [],
   "source": [
    "def k_nearest_items(df, k=100):\n",
    "    nearest = tree.query(df, k=k)[1][0]\n",
    "    \n",
    "    nearest_samples = origin_df.iloc[nearest]\n",
    "    return nearest_samples"
   ]
  },
  {
   "cell_type": "code",
   "execution_count": 64,
   "id": "ef4918f5",
   "metadata": {},
   "outputs": [],
   "source": [
    "def position_in_domain(df):\n",
    "    embedding = umap_clustering.transform(df)\n",
    "    return embedding[0]"
   ]
  },
  {
   "cell_type": "code",
   "execution_count": 68,
   "id": "e03ada3c",
   "metadata": {},
   "outputs": [
    {
     "data": {
      "text/plain": [
       "array([[ 2.81995 , -8.860588]], dtype=float32)"
      ]
     },
     "execution_count": 68,
     "metadata": {},
     "output_type": "execute_result"
    }
   ],
   "source": [
    "position_in_domain(preprocess_data(data[0]))"
   ]
  },
  {
   "cell_type": "code",
   "execution_count": null,
   "id": "b688088a",
   "metadata": {},
   "outputs": [],
   "source": []
  },
  {
   "cell_type": "code",
   "execution_count": null,
   "id": "aa141694",
   "metadata": {},
   "outputs": [],
   "source": []
  }
 ],
 "metadata": {
  "kernelspec": {
   "display_name": "Python 3 (ipykernel)",
   "language": "python",
   "name": "python3"
  },
  "language_info": {
   "codemirror_mode": {
    "name": "ipython",
    "version": 3
   },
   "file_extension": ".py",
   "mimetype": "text/x-python",
   "name": "python",
   "nbconvert_exporter": "python",
   "pygments_lexer": "ipython3",
   "version": "3.9.12"
  }
 },
 "nbformat": 4,
 "nbformat_minor": 5
}